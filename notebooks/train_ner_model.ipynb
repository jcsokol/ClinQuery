{
 "cells": [
  {
   "cell_type": "markdown",
   "id": "b874773f-ba4e-4ebf-ba4b-28342386a929",
   "metadata": {},
   "source": [
    "# Train NER model\n",
    "\n",
    "This notebook shows the workflow I used to fine-tune the NER model of the end-to-end clinical reasoning engine. Some tweaks have been left out; contact me if you want to go into every detail as to how I trained it.\n",
    "\n",
    "**Data:** synthetic, de-identified examples in `./db/training_data.jsonl`  \n",
    "**Model base:** `UFNLP/gatortron-base`  \n",
    "**Outputs:** checkpoints stored to `../pipeline_ingest/db/ner_model`, sample predictions stored to `./db/example_predictions.jsonl`\n",
    "\n",
    "All used EHR notes are synthetic; no real patient data was used. "
   ]
  },
  {
   "cell_type": "code",
   "execution_count": 10,
   "id": "36ee2e74-abdf-49df-9842-f8a1187ef45c",
   "metadata": {
    "scrolled": true
   },
   "outputs": [],
   "source": [
    "import numpy as np\n",
    "import torch\n",
    "import json\n",
    "from datasets import Dataset\n",
    "from transformers import (AutoTokenizer,TrainingArguments,Trainer,DataCollatorForTokenClassification,EarlyStoppingCallback)\n",
    "from ner_helpers import *"
   ]
  },
  {
   "cell_type": "code",
   "execution_count": 11,
   "id": "23d857eb-a7ca-4c60-a0d5-f112e660e778",
   "metadata": {},
   "outputs": [
    {
     "name": "stdout",
     "output_type": "stream",
     "text": [
      "True\n"
     ]
    }
   ],
   "source": [
    "# make sure GPU is available\n",
    "print(torch.cuda.is_available())\n",
    "device=torch.device(\"cuda\" if torch.cuda.is_available() else \"cpu\")"
   ]
  },
  {
   "cell_type": "code",
   "execution_count": 12,
   "id": "7923b690-1b07-4789-8508-bb22053157ba",
   "metadata": {},
   "outputs": [
    {
     "data": {
      "application/vnd.jupyter.widget-view+json": {
       "model_id": "339c84d964624a16b270f0fc4d1c781a",
       "version_major": 2,
       "version_minor": 0
      },
      "text/plain": [
       "Map:   0%|          | 0/2323 [00:00<?, ? examples/s]"
      ]
     },
     "metadata": {},
     "output_type": "display_data"
    },
    {
     "data": {
      "application/vnd.jupyter.widget-view+json": {
       "model_id": "064bd6c90ceb473ba48ad9c978e2f35a",
       "version_major": 2,
       "version_minor": 0
      },
      "text/plain": [
       "Map:   0%|          | 0/18 [00:00<?, ? examples/s]"
      ]
     },
     "metadata": {},
     "output_type": "display_data"
    },
    {
     "name": "stdout",
     "output_type": "stream",
     "text": [
      "cuda:0\n"
     ]
    }
   ],
   "source": [
    "# load data, tokenizer and model\n",
    "raw_data_trainset, raw_data_devset = load_train_and_devsets_from_jsonl('./db/training_data.jsonl')\n",
    "model_name = 'UFNLP/gatortron-base'\n",
    "tokenizer = AutoTokenizer.from_pretrained(model_name)\n",
    "label_set_trainset = {span['label'] for example in raw_data_trainset for span in example.get('spans',[])}\n",
    "label_set_devset = {span['label'] for example in raw_data_devset for span in example.get('spans',[])}\n",
    "label_list_trainset = ['O'] + [f\"{prefix}-{label}\" for label in sorted(label_set_trainset) for prefix in ('B','I')]\n",
    "label_list_devset = ['O'] + [f\"{prefix}-{label}\" for label in sorted(label_set_devset) for prefix in ('B','I')]\n",
    "label2id = {label: i for i,label in enumerate(label_list_trainset)}\n",
    "id2label = {value: key for key, value in label2id.items()}\n",
    "\n",
    "chunked_data_trainset, chunked_data_devset = [],[]\n",
    "for example in raw_data_trainset:\n",
    "    chunked_data_trainset.extend(chunk_text(example, tokenizer))\n",
    "for example in raw_data_devset:\n",
    "    chunked_data_devset.extend(chunk_text(example, tokenizer))\n",
    "\n",
    "dataset_trainset = Dataset.from_list(chunked_data_trainset)\n",
    "dataset_devset = Dataset.from_list(chunked_data_devset)\n",
    "dataset_trainset = dataset_trainset.map(lambda x: convert_spans_to_bio_labels(x, tokenizer, label2id, expand_entities=False), batched=False)\n",
    "dataset_devset = dataset_devset.map(lambda x: convert_spans_to_bio_labels(x, tokenizer, label2id), batched=False)\n",
    "\n",
    "model = WeightedTokenClassificationModel(base_model_name=model_name,label_list=label_list_trainset,weight_boosts={\"TIME\":3.0,\"NEGATION\":3.0}) # to penalize false negatives for TIME+NEGATION entities more (i.e. to force the model to find all TIME+NEGATION entities)\n",
    "model = model.to(device)\n",
    "print(next(model.parameters()).device)"
   ]
  },
  {
   "cell_type": "code",
   "execution_count": 13,
   "id": "cfbf44fb-ffe3-4bcb-aa06-3dc5e90a1145",
   "metadata": {},
   "outputs": [],
   "source": [
    "# sanity check input data by reviewing a few examples\n",
    "# example_i = 7\n",
    "# id2label = {value: key for key, value in label2id.items()}\n",
    "# id2label[-100] = 'O'\n",
    "# print(len(dataset_trainset[example_i]['input_ids']))\n",
    "# print(len([id2label[item] for item in dataset_trainset[example_i]['labels']]))\n",
    "# print(render_labeled_text_with_xml_sanity_check(dataset_trainset[example_i]['text'],dataset_trainset[example_i]['input_ids'],[id2label[item] for item in dataset_trainset[example_i]['labels']],tokenizer))\n"
   ]
  },
  {
   "cell_type": "code",
   "execution_count": 14,
   "id": "5278ab4e-ad92-4060-9bf7-461817cfb479",
   "metadata": {},
   "outputs": [
    {
     "name": "stderr",
     "output_type": "stream",
     "text": [
      "Detected kernel version 3.10.0, which is below the recommended minimum of 5.5.0; this can cause the process to hang. It is recommended to upgrade the kernel to the minimum version or higher.\n"
     ]
    }
   ],
   "source": [
    "# set dropout rates\n",
    "set_dropout(model,0.1) # use 0.1 dropouts for all training\n",
    "\n",
    "# set up training arguments\n",
    "training_args = TrainingArguments(\n",
    "    output_dir='../pipeline_ingest/db/ner_model',\n",
    "    learning_rate=2e-5, \n",
    "    per_device_train_batch_size=8, \n",
    "    per_device_eval_batch_size=16,\n",
    "    num_train_epochs=45, # 45\n",
    "    gradient_accumulation_steps=2, # 1-2\n",
    "    warmup_steps=25,\n",
    "    eval_strategy='epoch',\n",
    "    save_strategy='epoch',\n",
    "    load_best_model_at_end=True,\n",
    "    logging_steps=1,\n",
    "    weight_decay = 0.05, # use 0.01-0.05\n",
    "    max_grad_norm = 1.0, # use 1.0 \n",
    "    lr_scheduler_type='cosine', # use cosine for main training\n",
    "    label_smoothing_factor=0.1, # use 0.1\n",
    ")\n",
    "\n",
    "# define trainer\n",
    "trainer = Trainer(\n",
    "    model=model,\n",
    "    args=training_args,\n",
    "    train_dataset=dataset_trainset,\n",
    "    eval_dataset=dataset_devset,\n",
    "    tokenizer=tokenizer,\n",
    "    data_collator=DataCollatorForTokenClassification(tokenizer),\n",
    "    compute_metrics=training_metrics_func(list(label2id.keys())),\n",
    "    callbacks=[EarlyStoppingCallback(early_stopping_patience=2)], # 2-4\n",
    ")\n"
   ]
  },
  {
   "cell_type": "code",
   "execution_count": 6,
   "id": "1ade8128-638f-4a8a-a14b-a177a2aad876",
   "metadata": {},
   "outputs": [],
   "source": [
    "# train model\n",
    "trainer.train()"
   ]
  },
  {
   "cell_type": "code",
   "execution_count": 7,
   "id": "bf311702-b657-41dd-a8fb-ead5fa67867b",
   "metadata": {},
   "outputs": [
    {
     "data": {
      "text/html": [
       "\n",
       "    <div>\n",
       "      \n",
       "      <progress value='2' max='2' style='width:300px; height:20px; vertical-align: middle;'></progress>\n",
       "      [2/2 00:00]\n",
       "    </div>\n",
       "    "
      ],
      "text/plain": [
       "<IPython.core.display.HTML object>"
      ]
     },
     "metadata": {},
     "output_type": "display_data"
    },
    {
     "name": "stdout",
     "output_type": "stream",
     "text": [
      "              precision    recall  f1-score   support\n",
      "\n",
      "    ADM_TIME       1.00      1.00      1.00         5\n",
      "         AGE       1.00      1.00      1.00         5\n",
      "       C_ENT       0.95      0.96      0.96       573\n",
      "         DOB       1.00      1.00      1.00         5\n",
      "    NEGATION       0.84      1.00      0.92        27\n",
      "        PLAN       0.94      0.94      0.94       193\n",
      "         SEX       1.00      1.00      1.00         9\n",
      "       TABLE       1.00      1.00      1.00        15\n",
      "        TIME       0.94      0.86      0.90       150\n",
      "\n",
      "   micro avg       0.95      0.94      0.95       982\n",
      "   macro avg       0.96      0.97      0.97       982\n",
      "weighted avg       0.95      0.94      0.95       982\n",
      "\n"
     ]
    },
    {
     "data": {
      "text/plain": [
       "{'eval_loss': 0.6383048295974731,\n",
       " 'eval_model_preparation_time': 0.0067,\n",
       " 'eval_accuracy': 0.9870283018867925,\n",
       " 'eval_precision': 0.9487704918032787,\n",
       " 'eval_recall': 0.9429735234215886,\n",
       " 'eval_f1': 0.9458631256384066,\n",
       " 'eval_runtime': 0.933,\n",
       " 'eval_samples_per_second': 19.292,\n",
       " 'eval_steps_per_second': 2.144}"
      ]
     },
     "execution_count": 7,
     "metadata": {},
     "output_type": "execute_result"
    }
   ],
   "source": [
    "# evaluate model\n",
    "# trainer.evaluate(eval_dataset=dataset_trainset)\n",
    "trainer.evaluate(eval_dataset=dataset_devset)"
   ]
  },
  {
   "cell_type": "code",
   "execution_count": 7,
   "id": "8eb7c9c6-ea8f-4266-ac33-237570ff8282",
   "metadata": {},
   "outputs": [],
   "source": [
    "# save/load model\n",
    "# out_dir = \"../pipeline_ingest/db/ner_model\"\n",
    "# torch.save(model.state_dict(), out_dir+\"/model_weights.pt\")\n",
    "# tokenizer.save_pretrained(out_dir)\n",
    "# with open(out_dir+\"/labels.json\", \"w\", encoding=\"utf-8\") as f: json.dump({\"label_list\": label_list_trainset,\"label2id\": label2id,\"id2label\": id2label}, f)\n",
    "# model.load_state_dict(torch.load(out_dir+\"/model_weights.pt\"))\n",
    "# tokenizer = AutoTokenizer.from_pretrained(out_dir)"
   ]
  },
  {
   "cell_type": "code",
   "execution_count": 8,
   "id": "d51e34f1-ddaf-4d23-b75d-952010c27039",
   "metadata": {},
   "outputs": [
    {
     "name": "stdout",
     "output_type": "stream",
     "text": [
      "**EPIC EHR - ICU ADMISSION SUMMARY**\n",
      "\n",
      "---\n",
      "**Patient Name:** Melina Zieme  \n",
      "**MRN:** 00938491-ICU  \n",
      "**DOB:** <dob id=\"e1\">09/24/1968</dob>  \n",
      "**Sex:** <sex id=\"e2\">Female</sex>  \n",
      "**Admit Date:** <adm_time id=\"e3\">2024-05-22</adm_time>  \n",
      "**Attending:** Dr. R. Carver  \n",
      "**Consults:** Cardiology, Critical Care, Infectious Disease, Endocrinology  \n",
      "**Location:** MICU, Bed 14  \n",
      "\n",
      "---\n",
      "\n",
      "### Hospital Course Summary\n",
      "\n",
      "**History of Present Illness:**  \n",
      "Melina Zieme, a <age id=\"e4\">55-year-old</age> <sex id=\"e5\">female</sex> with a <time id=\"e6\">history</time> notable for <c_ent id=\"e7\">cardiac arrest</c_ent>, <c_ent id=\"e8\">obesity</c_ent>, and <time id=\"e9\">recent</time> <c_ent id=\"e10\">upper respiratory tract infection</c_ent>, was <c_ent id=\"e11\">found unresponsive at home</c_ent> by her daughter. EMS reported <c_ent id=\"e12\">pulseless electrical activity (PEA) arrest</c_ent>; <c_ent id=\"e13\">ROSC achieved</c_ent> <time id=\"e14\">after 12 minutes of ACLS</time>. <c_ent id=\"e15\">Brought to ED intubated, hypotensive</c_ent>, <c_ent id=\"e16\">requiring norepinephrine</c_ent>. <time id=\"e17\">Initial</time> <c_ent id=\"e18\">EKG showed diffuse ST depressions</c_ent>. <c_ent id=\"e19\">TTE revealed severely reduced LVEF (~20%), global hypokinesis</c_ent>. She was <c_ent id=\"e20\">transferred to MICU</c_ent> for management of <c_ent id=\"e21\">cardiogenic shock</c_ent>. Due to <c_ent id=\"e22\">refractory hypotension</c_ent> and evidence of <c_ent id=\"e23\">end-organ hypoperfusion despite escalating vasopressors/inotropes</c_ent>, decision made for <c_ent id=\"e24\">percutaneous placement of a left-sided Impella CP device</c_ent> on <time id=\"e25\">hospital day 1</time>.\n",
      "\n",
      "---\n",
      "\n",
      "### Problem List  \n",
      "1. **<c_ent id=\"e26\">Cardiogenic Shock s/p Cardiac Arrest</c_ent> - <c_ent id=\"e27\">Impella CP in place</c_ent>**  \n",
      "2. **<c_ent id=\"e28\">Acute Hypoxic Respiratory Failure s/p Intubation</c_ent>**  \n",
      "3. **<c_ent id=\"e29\">Obesity (BMI >30)</c_ent>**\n",
      "4. **<c_ent id=\"e30\">Acute Kidney Injury</c_ent>**  \n",
      "5. **<c_ent id=\"e31\">Transaminitis</c_ent>**  \n",
      "6. **<c_ent id=\"e32\">Recurrent Sinusitis/Pharyngitis</c_ent>**  \n",
      "7. **<time id=\"e33\">History</time> of <c_ent id=\"e34\">First Trimester Miscarriage</c_ent>**  \n",
      "8. **<c_ent id=\"e35\">Hand Laceration</c_ent>**  \n",
      "9. **<c_ent id=\"e36\">Hospital-acquired Anemia</c_ent>**  \n",
      "10. **<c_ent id=\"e37\">Contraceptive Management</c_ent>**  \n",
      "11. **<c_ent id=\"e38\">Pain - Mild</c_ent>**  \n",
      "\n",
      "---\n",
      "\n",
      "## ICU Daily Progress Notes\n",
      "\n",
      "### ASSESSMENT & PLAN\n",
      "\n",
      "---\n",
      "\n",
      "#### 1. **<c_ent id=\"e39\">Cardiogenic Shock s/p Cardiac Arrest</c_ent>; <c_ent id=\"e40\">Impella</c_ent> CP in place**\n",
      "- **Assessment:**  \n",
      "Patient in profound shock post-PEA arrest, likely secondary to acute viral myocarditis vs. ischemic insult. <c_ent id=\"e41\">TTE with LVEF 20%</c_ent>, <c_ent id=\"e42\">troponin mildly elevated (peak 0.87)</c_ent>, <negation id=\"e43\">no</negation> <c_ent id=\"e44\">acute coronary occlusion on cath</c_ent>. <c_ent id=\"e45\">Continued lactic acidosis</c_ent>, <c_ent id=\"e46\">MAP < 60 mmHg despite norepi, dobutamine</c_ent>. <c_ent id=\"e47\">Impella CP placed via R femoral artery for mechanical circulatory support</c_ent>.  \n",
      "- **Plan:**  \n",
      "  - <plan id=\"e48\">Maintain Impella at P6</plan>, <plan id=\"e49\">monitor flows (currently 3.1 L/min)</plan>  \n",
      "  - <plan id=\"e50\">Continue heparinized saline purge</plan>, <plan id=\"e51\">monitor ACT q4h</plan>  \n",
      "  - <plan id=\"e52\">Titrate vasopressors/inotropes as tolerated</plan>  \n",
      "  - <plan id=\"e53\">Daily TTE to assess recovery/removal candidacy</plan>  \n",
      "  - <plan id=\"e54\">Serial lactate, mixed venous O2 sats</plan>  \n",
      "  - <plan id=\"e55\">Consider weaning Impella if LVEF >35% and off pressors</plan>  \n",
      "  - <plan id=\"e56\">Cardiology to follow</plan>  \n",
      "  - <plan id=\"e57\">Monitor for device-related complications (bleeding, hemolysis, limb ischemia)</plan>  \n",
      "\n",
      "---\n",
      "\n",
      "#### 2. **<c_ent id=\"e58\">Acute Hypoxic Respiratory Failure</c_ent>**\n",
      "- **Assessment:**  \n",
      "<c_ent id=\"e59\">Required intubation in field</c_ent>; <c_ent id=\"e60\">CXR with mild pulmonary edema, no consolidation</c_ent>. <c_ent id=\"e61\">Sedated on propofol/fentanyl</c_ent>.  \n",
      "- **Plan:**  \n",
      "  - <plan id=\"e62\">Lung-protective ventilation (TV 6ml/kg IBW, PEEP 8)</plan>  \n",
      "  - <plan id=\"e63\">Daily sedation vacations</plan>  \n",
      "  - <plan id=\"e64\">Spontaneous breathing trial when stable</plan>  \n",
      "  - <plan id=\"e65\">Monitor for VAP</plan>  \n",
      "  - <plan id=\"e66\">Daily CXR</plan>  \n",
      "\n",
      "---\n",
      "\n",
      "#### 3. **<c_ent id=\"e67\">Obesity (BMI 31.3 on admit)</c_ent>**\n",
      "- **Assessment:**  \n",
      "<c_ent id=\"e68\">Obese</c_ent>, likely contributing to <c_ent id=\"e69\">metabolic derangements</c_ent> and <c_ent id=\"e70\">complicating ventilation</c_ent>.  \n",
      "- **Plan:**  \n",
      "  - <plan id=\"e71\">DVT prophylaxis (SCDs, heparin 5000u BID)</plan>  \n",
      "  - <plan id=\"e72\">Strict I/O</plan>  \n",
      "  - <plan id=\"e73\">Nutrition consult</plan>  \n",
      "  - <plan id=\"e74\">Encourage mobility when extubated</plan>  \n",
      "\n",
      "---\n",
      "\n",
      "#### 4. **<c_ent id=\"e75\">Acute Kidney Injury (KDIGO Stage II)</c_ent>**\n",
      "- **Assessment:**  \n",
      "<c_ent id=\"e76\">Creatinine rose from 1.1 baseline to 2</c_ent>.2 on day 2; likely multifactorial (shock, pressors, nephrotoxic meds). UOP 0.4 ml/kg/hr.  \n",
      "- **Plan:**  \n",
      "  - <plan id=\"e77\">IVF as tolerated (balanced crystalloids)</plan>  \n",
      "  - <plan id=\"e78\">Avoid nephrotoxins</plan>  \n",
      "  - <plan id=\"e79\">Monitor K+</plan>, <plan id=\"e80\">trend Cr/BUN</plan>  \n",
      "  - <plan id=\"e81\">Nephrology consult</plan>  \n",
      "\n",
      "---\n",
      "\n",
      "#### 5. **<c_ent id=\"e82\">Transaminitis</c_ent>**\n",
      "- **Assessment:**  \n",
      "<c_ent id=\"e83\">AST/ALT peaked at 123/98</c_ent>, <c_ent id=\"e84\">likely ischemic hepatitis</c_ent>. <negation id=\"e85\">No evidence of</negation> <c_ent id=\"e86\">biliary obstruction</c_ent>.  \n",
      "- **Plan:**  \n",
      "  - <plan id=\"e87\">Supportive care</plan>  \n",
      "  - <plan id=\"e88\">Monitor LFTs daily</plan>  \n",
      "  - <plan id=\"e89\">Hepatitis panel pending</plan>  \n",
      "\n",
      "---\n",
      "\n",
      "#### 6. **<c_ent id=\"e90\">Recurrent Sinusitis/Pharyngitis</c_ent>**\n",
      "- **Assessment:**  \n",
      "<time id=\"e91\">History</time> of <c_ent id=\"e92\">frequent viral URIs</c_ent>, <time id=\"e93\">currently</time> on <c_ent id=\"e94\">amox-clav for presumed bacterial superinfection</c_ent>. <negation id=\"e95\">No</negation> <c_ent id=\"e96\">fevers</c_ent> <time id=\"e97\">after day 2</time>.  \n",
      "- **Plan:**  \n",
      "  - <plan id=\"e98\">Complete 7-day course of abx</plan>  \n",
      "  - <plan id=\"e99\">ENT consult if persistent</plan>  \n",
      "  - <plan id=\"e100\">Symptomatic management</plan>  \n",
      "\n",
      "---\n",
      "\n",
      "#### 7. **<time id=\"e101\">History</time> of <c_ent id=\"e102\">First Trimester Miscarriage</c_ent>**\n",
      "- **Assessment:**  \n",
      "<time id=\"e103\">Remote</time>, <negation id=\"e104\">no current</negation> <c_ent id=\"e105\">OB/GYN issues</c_ent>.  \n",
      "- **Plan:**  \n",
      "  - <plan id=\"e106\">No interventions needed</plan>  \n",
      "\n",
      "---\n",
      "\n",
      "#### 8. **<c_ent id=\"e107\">Hand Laceration</c_ent>**\n",
      "- **Assessment:**  \n",
      "<c_ent id=\"e108\">2cm laceration dorsal right hand, sutured on admit, no signs of infection</c_ent>.  \n",
      "- **Plan:**  \n",
      "  - <plan id=\"e109\">Daily wound checks</plan>  \n",
      "  - <plan id=\"e110\">Remove sutures day 7</plan>  \n",
      "  - <plan id=\"e111\">Bacitracin ointment</plan>  \n",
      "\n",
      "---\n",
      "\n",
      "#### 9. **<c_ent id=\"e112\">Hospital-acquired Anemia</c_ent>**\n",
      "- **Assessment:**  \n",
      "<c_ent id=\"e113\">Hgb dropped from 13.1 to 9.5</c_ent> <time id=\"e114\">over 4 days</time>, likely dilutional and phlebotomy-related. <negation id=\"e115\">No</negation> overt bleeding.  \n",
      "- **Plan:**  \n",
      "  - <plan id=\"e116\">Monitor H/H daily</plan>  \n",
      "  - <plan id=\"e117\">Iron studies</plan>, <plan id=\"e118\">retic count</plan>  \n",
      "  - <plan id=\"e119\">Transfuse if Hgb <7 or symptomatic</plan>  \n",
      "\n",
      "---\n",
      "\n",
      "#### 10. **<c_ent id=\"e120\">Contraceptive Management</c_ent>**\n",
      "- **Assessment:**  \n",
      "History of multiple contraceptive methods (implants, IUDs, OCPs). No <c_ent id=\"e121\">acute gynecologic issues</c_ent>.  \n",
      "- **Plan:**  \n",
      "  - <plan id=\"e122\">Hold hormonal agents during ICU stay</plan>  \n",
      "  - <plan id=\"e123\">OBGYN to reassess prior to discharge</plan>  \n",
      "\n",
      "---\n",
      "\n",
      "#### 11. **<c_ent id=\"e124\">Pain - Mild</c_ent>**\n",
      "- **Assessment:**  \n",
      "<c_ent id=\"e125\">Reports mild pain (3/10) at hand wound and with movement</c_ent>.  \n",
      "- **Plan:**  \n",
      "  - <plan id=\"e126\">PRN acetaminophen</plan>  \n",
      "  - <plan id=\"e127\">Minimize opioids</plan>  \n",
      "  - <plan id=\"e128\">Reassess daily</plan>  \n",
      "\n",
      "---\n",
      "\n",
      "---\n",
      "\n",
      "## ICU Flow Sheet & Labs\n",
      "\n",
      "#### VITALS (Selected, <time id=\"e129\">Initial 5 Days</time>)\n",
      "\n",
      "<table id=\"e130\">[TABLE]</table>\n",
      "\n",
      "---\n",
      "\n",
      "#### LABS\n",
      "\n",
      "<table id=\"e131\">[TABLE]</table>\n",
      "\n",
      "*Some entries missing due to lab draw errors or hemolyzed samples.\n",
      "\n",
      "---\n",
      "\n",
      "## Procedures\n",
      "\n",
      "- **<time id=\"e132\">5/22/24</time>:** <c_ent id=\"e133\">Impella CP placement via R femoral artery under fluoroscopic guidance</c_ent>. No immediate complications.\n",
      "- **<time id=\"e134\">5/22/24</time>:** <c_ent id=\"e135\">Central line (R IJ)</c_ent>, <c_ent id=\"e136\">arterial line (L radial)</c_ent>, <c_ent id=\"e137\">Foley cath</c_ent>.\n",
      "- **<time id=\"e138\">5/22/24</time>:** <c_ent id=\"e139\">Hand wound closure, 2-0 nylon, dorsal R hand</c_ent>.\n",
      "\n",
      "---\n",
      "\n",
      "## Medications (selected)\n",
      "\n",
      "- <c_ent id=\"e140\">Norepinephrine infusion</c_ent> (<time id=\"e141\">off by day 3</time>)\n",
      "- <c_ent id=\"e142\">Dobutamine infusion</c_ent> (<time id=\"e143\">off by day 4</time>)\n",
      "- <c_ent id=\"e144\">Heparin saline purge (Impella)</c_ent>\n",
      "- <c_ent id=\"e145\">Amoxicillin-Clavulanate 875-125mg PO BID (for sinusitis)</c_ent>\n",
      "- <c_ent id=\"e146\">Acetaminophen 650mg PO q6h PRN</c_ent>\n",
      "- <c_ent id=\"e147\">Propofol/fentanyl for sedation</c_ent> (<time id=\"e148\">weaned off by day 4</time>)\n",
      "- <c_ent id=\"e149\">Pantoprazole 40mg IV daily</c_ent>\n",
      "- <c_ent id=\"e150\">SCDs</c_ent>, <c_ent id=\"e151\">heparin 5000u BID (VTE prophylaxis)</c_ent>\n",
      "- <c_ent id=\"e152\">IVF: LR/NS per protocol</c_ent>\n",
      "\n",
      "---\n",
      "\n",
      "## Discharge Planning\n",
      "\n",
      "- <plan id=\"e153\">Anticipate Impella removal</plan> <time id=\"e154\">within 24-48h</time> pending hemodynamic stability and echo\n",
      "- <plan id=\"e155\">Early mobilization, PT/</plan>OT consults\n",
      "- OBGYN follow-up for contraceptive management\n",
      "- Cardiology follow-up\n",
      "- Wound care instructions for hand laceration\n",
      "\n",
      "---\n",
      "\n",
      "**Attending:** Dr. R. Carver  \n",
      "**Co-Sign:** Dr. S. Nallamothu (Cardiology)  \n",
      "**Date/Time:** 2024-05-26 10:14\n",
      "\n",
      "---\n",
      "\n",
      "\n"
     ]
    }
   ],
   "source": [
    "# run a few predictions and inspect them\n",
    "jsonl_input_path = './db/training_data.jsonl'\n",
    "jsonl_output_path = './db/example_predictions.jsonl'\n",
    "\n",
    "with open(jsonl_input_path, \"r\") as f:\n",
    "    lines = [json.loads(line) for line in f]\n",
    "output_annotations_list = []\n",
    "with open(jsonl_output_path, \"w\") as out:\n",
    "    for example in lines[:5]: ### set how many notes to generate predictions over ###\n",
    "        text = example[\"text\"]\n",
    "        spans = predict_entities(text, model, tokenizer, id2label, device=device, prob_threshold=0.6)\n",
    "        spans = filter_overlapping_spans_for_predictions(spans=spans, min_char_length=1)\n",
    "        output = {\"text\": text, \"spans\": spans}\n",
    "        output_annotations_list.append(output)\n",
    "        out.write(json.dumps(output) + \"\\n\")\n",
    "\n",
    "# show XML-annotated example\n",
    "predictions_xml_tagged_format = convert_prodigy_jsonl_to_tagged_text_and_relations(jsonl_output_path)\n",
    "example_i = 1\n",
    "print(predictions_xml_tagged_format[example_i][1])"
   ]
  },
  {
   "cell_type": "code",
   "execution_count": null,
   "id": "321fb33c-9525-476d-89fb-43bbcd1afd06",
   "metadata": {},
   "outputs": [],
   "source": []
  },
  {
   "cell_type": "code",
   "execution_count": null,
   "id": "a86479ac-c8dd-4e23-951f-5a94b1b3fb01",
   "metadata": {},
   "outputs": [],
   "source": []
  },
  {
   "cell_type": "code",
   "execution_count": null,
   "id": "16104861-4bf3-4389-a1f9-8d23c5edad12",
   "metadata": {},
   "outputs": [],
   "source": []
  }
 ],
 "metadata": {
  "kernelspec": {
   "display_name": "clinquery_environment-gpu-linux",
   "language": "python",
   "name": "clinquery_environment-gpu-linux"
  },
  "language_info": {
   "codemirror_mode": {
    "name": "ipython",
    "version": 3
   },
   "file_extension": ".py",
   "mimetype": "text/x-python",
   "name": "python",
   "nbconvert_exporter": "python",
   "pygments_lexer": "ipython3",
   "version": "3.10.18"
  }
 },
 "nbformat": 4,
 "nbformat_minor": 5
}
